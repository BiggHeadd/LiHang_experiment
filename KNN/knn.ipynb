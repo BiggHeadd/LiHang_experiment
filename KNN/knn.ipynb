{
 "cells": [
  {
   "cell_type": "code",
   "execution_count": 6,
   "metadata": {},
   "outputs": [],
   "source": [
    "# -*- coding:utf-8-*-\n",
    "# Edited by bighead 19-2-13\n",
    "\n",
    "import numpy as np\n",
    "import pandas as pd\n",
    "import cv2\n",
    "import random\n",
    "import time\n",
    "\n",
    "from sklearn.model_selection import train_test_split\n",
    "from sklearn.metrics import accuracy_score"
   ]
  },
  {
   "cell_type": "code",
   "execution_count": 7,
   "metadata": {},
   "outputs": [],
   "source": [
    "##### get hog feature\n",
    "def get_hot_features(trainset):\n",
    "    features=[]\n",
    "    hog = cv2.HOGDescriptor('../data/hog.xml')\n",
    "    \n",
    "    for img in trainset:\n",
    "        img = np.reshape(img, (28,28))\n",
    "        cv_img = img.astype(np.uint8)\n",
    "        \n",
    "        hog_feature = hog.compute(cv_img)\n",
    "        features.append(hog_feature)\n",
    "        \n",
    "    features = np.array(features)\n",
    "    features = np.reshape(features, (-1, 324))\n",
    "    \n",
    "    return features"
   ]
  },
  {
   "cell_type": "code",
   "execution_count": 8,
   "metadata": {},
   "outputs": [],
   "source": [
    "##### knn predict process\n",
    "def predict(testset, trainset, train_labels):\n",
    "    predict=[]\n",
    "    count=0\n",
    "    \n",
    "    for test_vec in testset:\n",
    "        count += 1\n",
    "        \n",
    "        knn_list=[]\n",
    "        max_index=-1\n",
    "        max_dist=0\n",
    "        \n",
    "        ### first k points\n",
    "        for i in range(k):\n",
    "            label = train_labels[i]\n",
    "            train_vec = trainset[i]\n",
    "            \n",
    "            dist = np.linalg.norm(train_vec-test_vec)\n",
    "            knn_list.append((dist, label))\n",
    "        \n",
    "        ### points remain\n",
    "        for i in range(k, len(train_labels)):\n",
    "            label = train_labels[i]\n",
    "            train_vec = trainset[i]\n",
    "            \n",
    "            dist = np.linalg.norm(train_vec-test_vec)\n",
    "            \n",
    "            ### find the furthest point on the k points\n",
    "            if max_index < 0:\n",
    "                for j in range(k):\n",
    "                    if max_dist < knn_list[j][0]:\n",
    "                        max_index = j\n",
    "                        max_dist = knn_list[max_index][0]\n",
    "            \n",
    "            if dist < max_dist:\n",
    "                knn_list[max_index] = (dist, label)\n",
    "                max_index=-1\n",
    "                max_dist=0\n",
    "        \n",
    "        class_total = k\n",
    "        class_count = [0 for i in range(class_total)]\n",
    "        for dist, label in knn_list:\n",
    "            class_count[label]+=1\n",
    "        \n",
    "        mmax = max(class_count)\n",
    "        \n",
    "        for i in range(class_total):\n",
    "            if mmax == class_count[i]:\n",
    "                predict.append(i)\n",
    "                break\n",
    "        \n",
    "    return np.array(predict)"
   ]
  },
  {
   "cell_type": "code",
   "execution_count": 9,
   "metadata": {},
   "outputs": [],
   "source": [
    "### set k\n",
    "k = 10"
   ]
  },
  {
   "cell_type": "code",
   "execution_count": 10,
   "metadata": {
    "scrolled": true
   },
   "outputs": [
    {
     "name": "stdout",
     "output_type": "stream",
     "text": [
      "Start read the data\n",
      "read data finish! cost: 6.83203887939 seconds\n",
      "start training\n",
      "knn do not need to train\n",
      "training cost: 0.00037693977356 seconds\n",
      "start predicting\n",
      "predicting cost: 3310.0124681 seconds\n",
      "The accruacy scores is 0.963333333333\n"
     ]
    }
   ],
   "source": [
    "### main\n",
    "print(\"Start read the data\")\n",
    "time_1 = time.time()\n",
    "\n",
    "raw_data = pd.read_csv('../data/train.csv', header=0)\n",
    "data = raw_data.values\n",
    "\n",
    "imgs=data[:, 1:]\n",
    "labels=data[:,0]\n",
    "\n",
    "features=get_hot_features(imgs)\n",
    "\n",
    "### train test set split\n",
    "features_train, features_test, label_train, label_test = train_test_split(imgs, labels, test_size=0.2, random_state=233)\n",
    "\n",
    "time_2 = time.time()\n",
    "print(\"read data finish! cost: {} seconds\".format(time_2-time_1))\n",
    "\n",
    "\n",
    "print(\"start training\")\n",
    "print(\"knn do not need to train\")\n",
    "time_3 = time.time()\n",
    "print(\"training cost: {} seconds\".format(time_3-time_2))\n",
    "\n",
    "print(\"start predicting\")\n",
    "test_predict = predict(testset=features_test, trainset=features_train, train_labels=label_train)\n",
    "time_4 = time.time()\n",
    "print(\"predicting cost: {} seconds\".format(time_4-time_3))\n",
    "\n",
    "score = accuracy_score(label_test, test_predict)\n",
    "print(\"The accruacy scores is {}\".format(score))"
   ]
  },
  {
   "cell_type": "code",
   "execution_count": null,
   "metadata": {},
   "outputs": [],
   "source": []
  }
 ],
 "metadata": {
  "kernelspec": {
   "display_name": "Python 2",
   "language": "python",
   "name": "python2"
  },
  "language_info": {
   "codemirror_mode": {
    "name": "ipython",
    "version": 2
   },
   "file_extension": ".py",
   "mimetype": "text/x-python",
   "name": "python",
   "nbconvert_exporter": "python",
   "pygments_lexer": "ipython2",
   "version": "2.7.15+"
  }
 },
 "nbformat": 4,
 "nbformat_minor": 2
}
