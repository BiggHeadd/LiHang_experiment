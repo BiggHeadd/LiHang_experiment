{
 "cells": [
  {
   "cell_type": "code",
   "execution_count": 11,
   "metadata": {},
   "outputs": [],
   "source": [
    "# -*-coding:utf-8 -*-\n",
    "# Edited by bighead 19-2-19\n",
    "\n",
    "import numpy as np\n",
    "import pandas as pd\n",
    "import cv2\n",
    "import random\n",
    "import time\n",
    "\n",
    "from sklearn.model_selection import train_test_split\n",
    "from sklearn.metrics import accuracy_score"
   ]
  },
  {
   "cell_type": "code",
   "execution_count": 12,
   "metadata": {},
   "outputs": [],
   "source": [
    "def binaryzation(img):\n",
    "    cv_img = img.astype(np.uint8)\n",
    "    cv2.threshold(cv_img,50,1,cv2.THRESH_BINARY_INV,cv_img)\n",
    "    return cv_img"
   ]
  },
  {
   "cell_type": "code",
   "execution_count": 13,
   "metadata": {},
   "outputs": [],
   "source": [
    "def train(trainset, train_labels):\n",
    "    prior_probability = np.zeros(class_num)\n",
    "    conditional_probability = np.zeros((class_num, feature_len, 2))\n",
    "    \n",
    "    for i in range(len(train_labels)):\n",
    "        img = binaryzation(trainset[i])\n",
    "        label = train_labels[i]\n",
    "        \n",
    "        prior_probability[label] += 1\n",
    "        \n",
    "        for j in range(feature_len):\n",
    "            conditional_probability[label][j][img[j]] += 1\n",
    "    \n",
    "    for i in range(class_num):\n",
    "        for j in range(feature_len):\n",
    "            pix_0 = conditional_probability[i][j][0]\n",
    "            pix_1 = conditional_probability[i][j][1]\n",
    "            \n",
    "            probalitity_0 = (float(pix_0)/float(pix_0+pix_1)) * 1000000 + 1\n",
    "            probalitity_1 = (float(pix_1)/float(pix_0+pix_1)) * 1000000 + 1\n",
    "            \n",
    "            conditional_probability[i][j][0] = probalitity_0\n",
    "            conditional_probability[i][j][1] = probalitity_1\n",
    "    \n",
    "    return prior_probability, conditional_probability"
   ]
  },
  {
   "cell_type": "code",
   "execution_count": 14,
   "metadata": {},
   "outputs": [],
   "source": [
    "def calculate_probability(img, label):\n",
    "    probability = int(prior_probability[label])\n",
    "    \n",
    "    for i in range(len(img)):\n",
    "        probability *= int(conditional_probability[label][i][img[i]])\n",
    "    \n",
    "    return probability"
   ]
  },
  {
   "cell_type": "code",
   "execution_count": 15,
   "metadata": {},
   "outputs": [],
   "source": [
    "def Predict(testset, prior_probility, conditional_probability):\n",
    "    predict = []\n",
    "    \n",
    "    for img in testset:\n",
    "        \n",
    "        img = binaryzation(img)\n",
    "        \n",
    "        max_label = 0\n",
    "        max_probability = calculate_probability(img, 0)\n",
    "        \n",
    "        for j in range(1, 10):\n",
    "            probability = calculate_probability(img, j)\n",
    "            \n",
    "            if max_probability < probability:\n",
    "                max_label = j\n",
    "                max_probability = probability\n",
    "        \n",
    "        predict.append(max_label)\n",
    "    \n",
    "    return np.array(predict)"
   ]
  },
  {
   "cell_type": "code",
   "execution_count": 16,
   "metadata": {},
   "outputs": [],
   "source": [
    "class_num = 10\n",
    "feature_len = 784"
   ]
  },
  {
   "cell_type": "code",
   "execution_count": 18,
   "metadata": {},
   "outputs": [
    {
     "name": "stdout",
     "output_type": "stream",
     "text": [
      "Start read data\n",
      "read data cost: 4.78487610817 seconds\n",
      "start training\n",
      "training cost: 45.6151919365 seconds\n",
      "start predicting\n",
      "testing cost: 293.034191847 seconds\n",
      "accruacy score is 0.8386002886\n"
     ]
    }
   ],
   "source": [
    "print 'Start read data'\n",
    "time_1 = time.time()\n",
    "\n",
    "raw_data = pd.read_csv('../data/train.csv', header=0)\n",
    "data = raw_data.values\n",
    "\n",
    "imgs = data[:, 1:]\n",
    "labels = data[:, 0]\n",
    "\n",
    "features_train, features_test, labels_train, labels_test = train_test_split(imgs, labels, test_size=0.33, random_state=2333)\n",
    "time_2 = time.time()\n",
    "\n",
    "print 'read data cost: {} seconds'.format(time_2 - time_1)\n",
    "\n",
    "print 'start training'\n",
    "prior_probability, conditional_probability = train(features_train, labels_train)\n",
    "time_3 = time.time()\n",
    "print 'training cost: {} seconds'.format(time_3-time_2)\n",
    "\n",
    "print 'start predicting'\n",
    "test_predict = Predict(features_test, prior_probility=prior_probability, conditional_probability=conditional_probability)\n",
    "time_4 = time.time()\n",
    "print 'testing cost: {} seconds'.format(time_4-time_3)\n",
    "\n",
    "score = accuracy_score(labels_test, test_predict)\n",
    "print 'accruacy score is {}'.format(score)"
   ]
  },
  {
   "cell_type": "code",
   "execution_count": null,
   "metadata": {},
   "outputs": [],
   "source": []
  }
 ],
 "metadata": {
  "kernelspec": {
   "display_name": "Python 2",
   "language": "python",
   "name": "python2"
  },
  "language_info": {
   "codemirror_mode": {
    "name": "ipython",
    "version": 2
   },
   "file_extension": ".py",
   "mimetype": "text/x-python",
   "name": "python",
   "nbconvert_exporter": "python",
   "pygments_lexer": "ipython2",
   "version": "2.7.15+"
  }
 },
 "nbformat": 4,
 "nbformat_minor": 2
}
